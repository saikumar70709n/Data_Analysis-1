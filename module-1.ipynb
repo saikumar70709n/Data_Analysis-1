{
  "nbformat": 4,
  "nbformat_minor": 0,
  "metadata": {
    "colab": {
      "provenance": [],
      "toc_visible": true
    },
    "kernelspec": {
      "name": "python3",
      "display_name": "Python 3"
    },
    "language_info": {
      "name": "python"
    }
  },
  "cells": [
    {
      "cell_type": "code",
      "execution_count": null,
      "metadata": {
        "id": "El6oLivicp76"
      },
      "outputs": [],
      "source": [
        "#importing\n",
        "import numpy as np"
      ]
    },
    {
      "cell_type": "markdown",
      "source": [
        "Arrays"
      ],
      "metadata": {
        "id": "tPi7GE9ugE0l"
      }
    },
    {
      "cell_type": "code",
      "source": [
        "#creating 1d array\n",
        "a=np.array([1,2,3,4,5])\n",
        "print(type(a))"
      ],
      "metadata": {
        "id": "ue_wC7GFgHT6",
        "colab": {
          "base_uri": "https://localhost:8080/"
        },
        "outputId": "d7c27eea-60bc-4f9f-e400-bc718079db11"
      },
      "execution_count": null,
      "outputs": [
        {
          "output_type": "stream",
          "name": "stdout",
          "text": [
            "<class 'numpy.ndarray'>\n"
          ]
        }
      ]
    },
    {
      "cell_type": "code",
      "source": [
        "#creating a 2D array\n",
        "B=np.array([[2,3,4],[7,8,9]])\n",
        "print(B)"
      ],
      "metadata": {
        "id": "ULLuEgBhgLlP",
        "colab": {
          "base_uri": "https://localhost:8080/"
        },
        "outputId": "2938936e-01ba-459c-9273-b5710ffd42d1"
      },
      "execution_count": null,
      "outputs": [
        {
          "output_type": "stream",
          "name": "stdout",
          "text": [
            "[[2 3 4]\n",
            " [7 8 9]]\n"
          ]
        }
      ]
    },
    {
      "cell_type": "code",
      "source": [
        "#creating a 3D array rows,columns,groups\n",
        "c=np.array([[[2,3,4],[6,7,8]],[[1,2,3],[1,3,4]]])\n",
        "print(c)"
      ],
      "metadata": {
        "id": "9hOBnjrBhi0u",
        "colab": {
          "base_uri": "https://localhost:8080/"
        },
        "outputId": "db46a6c8-f376-4d67-dc13-5d6e497de149"
      },
      "execution_count": null,
      "outputs": [
        {
          "output_type": "stream",
          "name": "stdout",
          "text": [
            "[[[2 3 4]\n",
            "  [6 7 8]]\n",
            "\n",
            " [[1 2 3]\n",
            "  [1 3 4]]]\n"
          ]
        }
      ]
    },
    {
      "cell_type": "code",
      "source": [
        "D=np.ones((3,2))\n",
        "print(D)"
      ],
      "metadata": {
        "colab": {
          "base_uri": "https://localhost:8080/"
        },
        "id": "6cto8cCCjgCd",
        "outputId": "ec39669f-916f-41a0-e96c-c3886b2ad4da"
      },
      "execution_count": null,
      "outputs": [
        {
          "output_type": "stream",
          "name": "stdout",
          "text": [
            "[[1. 1.]\n",
            " [1. 1.]\n",
            " [1. 1.]]\n"
          ]
        }
      ]
    },
    {
      "cell_type": "code",
      "source": [
        "d=np.zeros((3,2))\n",
        "print(d)"
      ],
      "metadata": {
        "colab": {
          "base_uri": "https://localhost:8080/"
        },
        "id": "BCGbILwrlc4O",
        "outputId": "06ea0830-f232-407e-e827-78454ebcc7ce"
      },
      "execution_count": null,
      "outputs": [
        {
          "output_type": "stream",
          "name": "stdout",
          "text": [
            "[[0. 0.]\n",
            " [0. 0.]\n",
            " [0. 0.]]\n"
          ]
        }
      ]
    },
    {
      "cell_type": "code",
      "source": [
        "i=np.eye(3)\n",
        "print(i)"
      ],
      "metadata": {
        "colab": {
          "base_uri": "https://localhost:8080/"
        },
        "id": "QICK_ScmmDa_",
        "outputId": "d246c1aa-1b80-4d27-b238-b1433568a867"
      },
      "execution_count": null,
      "outputs": [
        {
          "output_type": "stream",
          "name": "stdout",
          "text": [
            "[[1. 0. 0.]\n",
            " [0. 1. 0.]\n",
            " [0. 0. 1.]]\n"
          ]
        }
      ]
    },
    {
      "cell_type": "code",
      "source": [
        "c=np.eye(4,3)\n",
        "print(i)"
      ],
      "metadata": {
        "colab": {
          "base_uri": "https://localhost:8080/"
        },
        "id": "DO-YKzhLmNK4",
        "outputId": "6bdd5ed5-bf5f-4025-978b-5602c77d738a"
      },
      "execution_count": null,
      "outputs": [
        {
          "output_type": "stream",
          "name": "stdout",
          "text": [
            "[[1. 0. 0.]\n",
            " [0. 1. 0.]\n",
            " [0. 0. 1.]]\n"
          ]
        }
      ]
    },
    {
      "cell_type": "code",
      "source": [
        "d=np.ones((2,3,4,))\n",
        "print(d)"
      ],
      "metadata": {
        "colab": {
          "base_uri": "https://localhost:8080/"
        },
        "id": "zWVFDD4CmlRQ",
        "outputId": "6afdaa03-843a-48d8-bbc6-55bea07965d6"
      },
      "execution_count": null,
      "outputs": [
        {
          "output_type": "stream",
          "name": "stdout",
          "text": [
            "[[[1. 1. 1. 1.]\n",
            "  [1. 1. 1. 1.]\n",
            "  [1. 1. 1. 1.]]\n",
            "\n",
            " [[1. 1. 1. 1.]\n",
            "  [1. 1. 1. 1.]\n",
            "  [1. 1. 1. 1.]]]\n"
          ]
        }
      ]
    },
    {
      "cell_type": "code",
      "source": [
        "R=np.eye(4,3)\n",
        "print(R)"
      ],
      "metadata": {
        "colab": {
          "base_uri": "https://localhost:8080/"
        },
        "id": "K7azDW0hm9YR",
        "outputId": "0464f395-f2eb-4604-96d7-ca6cd8f36d91"
      },
      "execution_count": null,
      "outputs": [
        {
          "output_type": "stream",
          "name": "stdout",
          "text": [
            "[[1. 0. 0.]\n",
            " [0. 1. 0.]\n",
            " [0. 0. 1.]\n",
            " [0. 0. 0.]]\n"
          ]
        }
      ]
    },
    {
      "cell_type": "code",
      "source": [
        "#arange\n",
        "n=np.arange(3,31,3).reshape(5,2)\n",
        "print(n)"
      ],
      "metadata": {
        "colab": {
          "base_uri": "https://localhost:8080/"
        },
        "id": "3F_HM4FKnzT-",
        "outputId": "cafa82dd-a3e3-4976-a644-8e26b6034c4e"
      },
      "execution_count": null,
      "outputs": [
        {
          "output_type": "stream",
          "name": "stdout",
          "text": [
            "[[ 3  6]\n",
            " [ 9 12]\n",
            " [15 18]\n",
            " [21 24]\n",
            " [27 30]]\n"
          ]
        }
      ]
    },
    {
      "cell_type": "code",
      "source": [
        "i=np.arange(5,1001,5).reshape(100,2)\n",
        "print(i)"
      ],
      "metadata": {
        "colab": {
          "base_uri": "https://localhost:8080/"
        },
        "id": "OZgUpLaYom2m",
        "outputId": "a0ce7037-0d29-4a8b-d139-ac7e338d7c7e"
      },
      "execution_count": null,
      "outputs": [
        {
          "output_type": "stream",
          "name": "stdout",
          "text": [
            "[[   5   10]\n",
            " [  15   20]\n",
            " [  25   30]\n",
            " [  35   40]\n",
            " [  45   50]\n",
            " [  55   60]\n",
            " [  65   70]\n",
            " [  75   80]\n",
            " [  85   90]\n",
            " [  95  100]\n",
            " [ 105  110]\n",
            " [ 115  120]\n",
            " [ 125  130]\n",
            " [ 135  140]\n",
            " [ 145  150]\n",
            " [ 155  160]\n",
            " [ 165  170]\n",
            " [ 175  180]\n",
            " [ 185  190]\n",
            " [ 195  200]\n",
            " [ 205  210]\n",
            " [ 215  220]\n",
            " [ 225  230]\n",
            " [ 235  240]\n",
            " [ 245  250]\n",
            " [ 255  260]\n",
            " [ 265  270]\n",
            " [ 275  280]\n",
            " [ 285  290]\n",
            " [ 295  300]\n",
            " [ 305  310]\n",
            " [ 315  320]\n",
            " [ 325  330]\n",
            " [ 335  340]\n",
            " [ 345  350]\n",
            " [ 355  360]\n",
            " [ 365  370]\n",
            " [ 375  380]\n",
            " [ 385  390]\n",
            " [ 395  400]\n",
            " [ 405  410]\n",
            " [ 415  420]\n",
            " [ 425  430]\n",
            " [ 435  440]\n",
            " [ 445  450]\n",
            " [ 455  460]\n",
            " [ 465  470]\n",
            " [ 475  480]\n",
            " [ 485  490]\n",
            " [ 495  500]\n",
            " [ 505  510]\n",
            " [ 515  520]\n",
            " [ 525  530]\n",
            " [ 535  540]\n",
            " [ 545  550]\n",
            " [ 555  560]\n",
            " [ 565  570]\n",
            " [ 575  580]\n",
            " [ 585  590]\n",
            " [ 595  600]\n",
            " [ 605  610]\n",
            " [ 615  620]\n",
            " [ 625  630]\n",
            " [ 635  640]\n",
            " [ 645  650]\n",
            " [ 655  660]\n",
            " [ 665  670]\n",
            " [ 675  680]\n",
            " [ 685  690]\n",
            " [ 695  700]\n",
            " [ 705  710]\n",
            " [ 715  720]\n",
            " [ 725  730]\n",
            " [ 735  740]\n",
            " [ 745  750]\n",
            " [ 755  760]\n",
            " [ 765  770]\n",
            " [ 775  780]\n",
            " [ 785  790]\n",
            " [ 795  800]\n",
            " [ 805  810]\n",
            " [ 815  820]\n",
            " [ 825  830]\n",
            " [ 835  840]\n",
            " [ 845  850]\n",
            " [ 855  860]\n",
            " [ 865  870]\n",
            " [ 875  880]\n",
            " [ 885  890]\n",
            " [ 895  900]\n",
            " [ 905  910]\n",
            " [ 915  920]\n",
            " [ 925  930]\n",
            " [ 935  940]\n",
            " [ 945  950]\n",
            " [ 955  960]\n",
            " [ 965  970]\n",
            " [ 975  980]\n",
            " [ 985  990]\n",
            " [ 995 1000]]\n"
          ]
        }
      ]
    },
    {
      "cell_type": "code",
      "source": [
        "v=np.linspace(12,24,10)\n",
        "print(v)"
      ],
      "metadata": {
        "colab": {
          "base_uri": "https://localhost:8080/"
        },
        "id": "UaOyD3-QqDKZ",
        "outputId": "a900c438-1718-4167-8e64-40685d7620ba"
      },
      "execution_count": null,
      "outputs": [
        {
          "output_type": "stream",
          "name": "stdout",
          "text": [
            "[12.         13.33333333 14.66666667 16.         17.33333333 18.66666667\n",
            " 20.         21.33333333 22.66666667 24.        ]\n"
          ]
        }
      ]
    },
    {
      "cell_type": "code",
      "source": [
        "R=np.arange(9,15).reshape(2,3)\n",
        "print(R)\n",
        "L=np.arange(1,7).reshape(2,3)\n",
        "print(L)\n",
        "print(L+R)"
      ],
      "metadata": {
        "colab": {
          "base_uri": "https://localhost:8080/"
        },
        "id": "Jz4U-8a7pbZQ",
        "outputId": "58ae4cb4-fb55-4c40-c6dd-aa13ae5e4bda"
      },
      "execution_count": null,
      "outputs": [
        {
          "output_type": "stream",
          "name": "stdout",
          "text": [
            "[[ 9 10 11]\n",
            " [12 13 14]]\n",
            "[[1 2 3]\n",
            " [4 5 6]]\n",
            "[[10 12 14]\n",
            " [16 18 20]]\n"
          ]
        }
      ]
    },
    {
      "cell_type": "code",
      "source": [
        "G=np.sum((L,R),axis=1)\n",
        "print(G)"
      ],
      "metadata": {
        "colab": {
          "base_uri": "https://localhost:8080/"
        },
        "id": "fa-lHm_VsH1e",
        "outputId": "1f22927c-9892-4ca7-b54b-9b9481f1b3c4"
      },
      "execution_count": null,
      "outputs": [
        {
          "output_type": "stream",
          "name": "stdout",
          "text": [
            "[[ 5  7  9]\n",
            " [21 23 25]]\n"
          ]
        }
      ]
    },
    {
      "cell_type": "code",
      "source": [
        "h=np.ones((4,2))\n",
        "g=np.ones((4,2))\n",
        "print(np.sum((h,g),axis=0))\n",
        "print(np.sum((h,g),axis=1))"
      ],
      "metadata": {
        "colab": {
          "base_uri": "https://localhost:8080/"
        },
        "id": "xrfWwWedwTT1",
        "outputId": "43a00980-5a83-4ab1-b613-47b54809c013"
      },
      "execution_count": null,
      "outputs": [
        {
          "output_type": "stream",
          "name": "stdout",
          "text": [
            "[[2. 2.]\n",
            " [2. 2.]\n",
            " [2. 2.]\n",
            " [2. 2.]]\n",
            "[[4. 4.]\n",
            " [4. 4.]]\n"
          ]
        }
      ]
    },
    {
      "cell_type": "code",
      "source": [
        "A=np.array([[1,1],[0,1]])\n",
        "B=np.array([[2,0],[3,4]])\n",
        "print(A*B)\n",
        "print(A@B)"
      ],
      "metadata": {
        "colab": {
          "base_uri": "https://localhost:8080/"
        },
        "id": "ZCywejldyHcJ",
        "outputId": "e8f33990-e9f3-4ff9-bbb1-b903e79fbfbc"
      },
      "execution_count": null,
      "outputs": [
        {
          "output_type": "stream",
          "name": "stdout",
          "text": [
            "[[2 0]\n",
            " [0 4]]\n",
            "[[5 4]\n",
            " [3 4]]\n"
          ]
        }
      ]
    },
    {
      "cell_type": "code",
      "source": [
        "#b=np.array[25,289,361,81] #find square roots and iterarte through result values output 5 square is 25\n",
        "b=[25,289,361,81]\n",
        "for i in b:\n",
        "\n",
        "  print(np.sqrt(i),\"square is\",i)"
      ],
      "metadata": {
        "colab": {
          "base_uri": "https://localhost:8080/"
        },
        "id": "6BOUkP3BzJxz",
        "outputId": "5a252e02-f045-4147-a02e-83d195110e9f"
      },
      "execution_count": null,
      "outputs": [
        {
          "output_type": "stream",
          "name": "stdout",
          "text": [
            "5.0 square is 25\n",
            "17.0 square is 289\n",
            "19.0 square is 361\n",
            "9.0 square is 81\n"
          ]
        }
      ]
    }
  ]
}