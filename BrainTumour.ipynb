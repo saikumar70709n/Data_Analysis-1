{
  "nbformat": 4,
  "nbformat_minor": 0,
  "metadata": {
    "colab": {
      "provenance": []
    },
    "kernelspec": {
      "name": "python3",
      "display_name": "Python 3"
    },
    "language_info": {
      "name": "python"
    }
  },
  "cells": [
    {
      "cell_type": "code",
      "source": [
        "import tensorflow as tf\n",
        "\n",
        "from tensorflow import keras\n",
        "\n",
        "from tensorflow.keras import layers\n",
        "\n",
        "from tensorflow.keras.preprocessing.image import ImageDataGenerator\n",
        "\n",
        "# Define Image sized batch size\n",
        "\n",
        "IMG_SIZE=224\n",
        "\n",
        "BATCH_SIZE=32"
      ],
      "metadata": {
        "id": "62y9EOsf88kk"
      },
      "execution_count": null,
      "outputs": []
    },
    {
      "cell_type": "code",
      "source": [
        "#Define data generators for train, validation and test sets\n",
        "\n",
        "train_datagen=ImageDataGenerator(\n",
        "    rescale=1./255,\n",
        "    validation_split=0.2\n",
        "\n",
        ")"
      ],
      "metadata": {
        "id": "cR8COxag9wVO"
      },
      "execution_count": null,
      "outputs": []
    },
    {
      "cell_type": "code",
      "source": [
        "train_generator=train_datagen.flow_from_directory('/content/drive/MyDrive/Brain_Tumor_Detection/train',\n",
        "    target_size=(IMG_SIZE,IMG_SIZE),\n",
        "    batch_size=BATCH_SIZE,\n",
        "    class_mode='binary',\n",
        "    subset='training'\n",
        ")\n",
        "val_generator=train_datagen.flow_from_directory('/content/drive/MyDrive/Brain_Tumor_Detection/train',\n",
        "    target_size=(IMG_SIZE,IMG_SIZE),\n",
        "    batch_size=BATCH_SIZE,\n",
        "    class_mode='binary',\n",
        "    subset='validation')\n",
        "test_datagen = ImageDataGenerator(rescale=1./225,validation_split=0.2)\n",
        "test_generator= train_datagen.flow_from_directory('/content/drive/MyDrive/Brain_Tumor_Detection/test',\n",
        "    target_size = (IMG_SIZE, IMG_SIZE),\n",
        "    batch_size = BATCH_SIZE,\n",
        "    class_mode = 'binary',\n",
        "    subset='training')"
      ],
      "metadata": {
        "colab": {
          "base_uri": "https://localhost:8080/"
        },
        "id": "b9TLqgN8gvKk",
        "outputId": "cceaa9c8-7378-46ca-a35a-69731d63822d"
      },
      "execution_count": null,
      "outputs": [
        {
          "output_type": "stream",
          "name": "stdout",
          "text": [
            "Found 2400 images belonging to 2 classes.\n",
            "Found 600 images belonging to 2 classes.\n",
            "Found 48 images belonging to 1 classes.\n"
          ]
        }
      ]
    },
    {
      "cell_type": "code",
      "source": [
        "from google.colab import drive\n",
        "drive.mount('/content/drive')"
      ],
      "metadata": {
        "colab": {
          "base_uri": "https://localhost:8080/"
        },
        "id": "KjxxCriTiF2v",
        "outputId": "4dd7ff50-9e2c-4889-eced-c2c083096deb"
      },
      "execution_count": null,
      "outputs": [
        {
          "output_type": "stream",
          "name": "stdout",
          "text": [
            "Mounted at /content/drive\n"
          ]
        }
      ]
    },
    {
      "cell_type": "code",
      "source": [
        "\n",
        "#define the model\n",
        "model=keras.Sequential([\n",
        "    layers.Conv2D(32,(3,3),activation='relu',input_shape=(IMG_SIZE,IMG_SIZE,3)),\n",
        "    layers.MaxPooling2D((2,2)),\n",
        "    layers.Conv2D(64,(3,3),activation='relu'),\n",
        "    layers.MaxPooling2D((2,2)),\n",
        "    layers.Conv2D(128,(3,3),activation='relu'),\n",
        "    layers.MaxPooling2D((2,2)),\n",
        "    layers.Flatten(),\n",
        "    layers.Dense(128,activation='relu'),\n",
        "    layers.Dense(1,activation='sigmoid')\n",
        "    ])"
      ],
      "metadata": {
        "id": "Y9arXmMuif7q"
      },
      "execution_count": null,
      "outputs": []
    },
    {
      "cell_type": "code",
      "source": [
        "\n"
      ],
      "metadata": {
        "id": "5AxuQLIUnSK5"
      },
      "execution_count": null,
      "outputs": []
    },
    {
      "cell_type": "code",
      "source": [
        "history =model.fit(train_generator,validation_data=val_generator,epochs=5)"
      ],
      "metadata": {
        "colab": {
          "base_uri": "https://localhost:8080/"
        },
        "id": "ssQip6PFnr-l",
        "outputId": "89f316ff-8e2a-4106-df2a-30d66958afd3"
      },
      "execution_count": null,
      "outputs": [
        {
          "output_type": "stream",
          "name": "stdout",
          "text": [
            "Epoch 1/5\n",
            "2/2 [==============================] - 56s 54s/step - loss: 0.0000e+00 - accuracy: 1.0000 - val_loss: 125.9541 - val_accuracy: 0.5000\n",
            "Epoch 2/5\n",
            "2/2 [==============================] - 27s 25s/step - loss: 0.0000e+00 - accuracy: 1.0000 - val_loss: 141.9017 - val_accuracy: 0.5000\n",
            "Epoch 3/5\n",
            "2/2 [==============================] - 25s 22s/step - loss: 0.0000e+00 - accuracy: 1.0000 - val_loss: 155.9745 - val_accuracy: 0.5000\n",
            "Epoch 4/5\n",
            "2/2 [==============================] - 25s 23s/step - loss: 0.0000e+00 - accuracy: 1.0000 - val_loss: 168.2745 - val_accuracy: 0.5000\n",
            "Epoch 5/5\n",
            "2/2 [==============================] - 25s 23s/step - loss: 0.0000e+00 - accuracy: 1.0000 - val_loss: 178.9421 - val_accuracy: 0.5000\n"
          ]
        }
      ]
    },
    {
      "cell_type": "code",
      "source": [
        "model.save(\"model..h5\",\"label.txt\")"
      ],
      "metadata": {
        "colab": {
          "base_uri": "https://localhost:8080/"
        },
        "id": "XAiVlQpJpyEl",
        "outputId": "041c865c-0f14-45e9-fa73-984223a8498a"
      },
      "execution_count": null,
      "outputs": [
        {
          "output_type": "stream",
          "name": "stderr",
          "text": [
            "/usr/local/lib/python3.10/dist-packages/keras/src/engine/training.py:3103: UserWarning: You are saving your model as an HDF5 file via `model.save()`. This file format is considered legacy. We recommend using instead the native Keras format, e.g. `model.save('my_model.keras')`.\n",
            "  saving_api.save_model(\n"
          ]
        }
      ]
    },
    {
      "cell_type": "code",
      "source": [
        "from tensorflow.keras. models import load_model\n",
        "from tensorflow.keras.preprocessing import image\n",
        "import numpy as np"
      ],
      "metadata": {
        "id": "Tnk3wF9Op1Wd"
      },
      "execution_count": null,
      "outputs": []
    },
    {
      "cell_type": "code",
      "source": [
        "model=load_model('/content/model..h5')\n",
        "test_image_path='/content/drive/MyDrive/Brain_Tumor_Detection/test/pred/pred34.jpg'\n",
        "img=image.load_img(test_image_path,target_size=(224,224))\n",
        "img_array=image.img_to_array(img)\n",
        "img_array=np.expand_dims(img_array ,axis=0)  #batch dimension\n",
        "img_array /=255.  #normalise the pixel values\n",
        "prediction=model.predict(img_array)\n"
      ],
      "metadata": {
        "id": "5-uzpyhrr0tr",
        "colab": {
          "base_uri": "https://localhost:8080/"
        },
        "outputId": "6ddc6ce5-d68b-48b1-a1f1-f9ebae9513ec"
      },
      "execution_count": null,
      "outputs": [
        {
          "output_type": "stream",
          "name": "stderr",
          "text": [
            "WARNING:tensorflow:6 out of the last 6 calls to <function Model.make_predict_function.<locals>.predict_function at 0x78d5cfe1ed40> triggered tf.function retracing. Tracing is expensive and the excessive number of tracings could be due to (1) creating @tf.function repeatedly in a loop, (2) passing tensors with different shapes, (3) passing Python objects instead of tensors. For (1), please define your @tf.function outside of the loop. For (2), @tf.function has reduce_retracing=True option that can avoid unnecessary retracing. For (3), please refer to https://www.tensorflow.org/guide/function#controlling_retracing and https://www.tensorflow.org/api_docs/python/tf/function for  more details.\n"
          ]
        },
        {
          "output_type": "stream",
          "name": "stdout",
          "text": [
            "1/1 [==============================] - 0s 99ms/step\n"
          ]
        }
      ]
    },
    {
      "cell_type": "code",
      "source": [
        "if prediction < 0.5:\n",
        "  print(\"Prediction: No tumor (Probability:\", prediction[0][0], \")\")\n",
        "else:\n",
        "  print(\"Prediction: Tumor present (Probability:\", prediction[0][0], \")\")"
      ],
      "metadata": {
        "colab": {
          "base_uri": "https://localhost:8080/"
        },
        "id": "ZSMScQYBttP-",
        "outputId": "6e71884c-a6fc-4929-e72d-403337458eb8"
      },
      "execution_count": null,
      "outputs": [
        {
          "output_type": "stream",
          "name": "stdout",
          "text": [
            "Prediction: No tumor (Probability: 0.0 )\n"
          ]
        }
      ]
    }
  ]
}