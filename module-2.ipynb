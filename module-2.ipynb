{
  "nbformat": 4,
  "nbformat_minor": 0,
  "metadata": {
    "colab": {
      "private_outputs": true,
      "provenance": []
    },
    "kernelspec": {
      "name": "python3",
      "display_name": "Python 3"
    },
    "language_info": {
      "name": "python"
    }
  },
  "cells": [
    {
      "cell_type": "markdown",
      "source": [
        "PLOTING"
      ],
      "metadata": {
        "id": "uwWu3ipxnjjA"
      }
    },
    {
      "cell_type": "code",
      "source": [
        "a=5\n",
        "print(a)"
      ],
      "metadata": {
        "id": "0nWANoELnk7r"
      },
      "execution_count": null,
      "outputs": []
    },
    {
      "cell_type": "code",
      "source": [
        "import matplotlib.pyplot as plt"
      ],
      "metadata": {
        "id": "tk9bR6BIoFq0"
      },
      "execution_count": null,
      "outputs": []
    },
    {
      "cell_type": "code",
      "source": [
        "A=[23,45,67,89,10] #corona cases in first five days\n",
        "B=[1,2,3,4,5]\n",
        "plt.plot(B,A,linestyle=\":\") #plot(x,y)\n",
        "plt.show()"
      ],
      "metadata": {
        "id": "fMHydCTQovmD"
      },
      "execution_count": null,
      "outputs": []
    },
    {
      "cell_type": "code",
      "source": [
        "#programme1\n",
        "#runs scored by 10 players[100,50,91,78,89,25,34,19,9,10] wickets taken by same 10 new players[1,0,2,0,3,7,8,9,7,5] from clusters for batsman and bowlers\n",
        "runs=[100,50,91,78,89,25,34,19,9,10]\n",
        "wickets=[1,0,2,0,3,7,8,9,7,5]\n",
        "plt.scatter(runs,wickets,color=\"blue\")\n",
        "plt.show\n"
      ],
      "metadata": {
        "id": "rHbHR7EmqB6J"
      },
      "execution_count": null,
      "outputs": []
    },
    {
      "cell_type": "code",
      "source": [
        "#show the scores of 2 students in 5 different subjects subjects as x axis marks as y axis\n",
        "s1=[85,66,45,78,99]\n",
        "s2=[65,78,99,46,23]\n",
        "sub=[\"tel\",\"eng\",\"math0\",\"soc\",\"phy\"]\n",
        "plt.plot(sub,s1,label=\"student1\",color='g')\n",
        "plt.plot(sub,s2,label=\"student2\",color='yellow')\n",
        "plt.legend()\n",
        "plt.title(\"mallya\")"
      ],
      "metadata": {
        "id": "gylJUxQpqDy6"
      },
      "execution_count": null,
      "outputs": []
    },
    {
      "cell_type": "code",
      "source": [
        "s1=[85,66,45,78,99]\n",
        "s2=[65,78,99,46,23]\n",
        "sub=[\"tel\",\"eng\",\"math0\",\"soc\",\"phy\"]\n",
        "plt.subplot(2,1,1)\n",
        "plt.plot(sub,s1,label=\"s1\",color=\"b\")\n",
        "plt.subplot(2,1,2)\n",
        "plt.plot(sub,s2,label=\"s2\",color=\"k\")\n",
        "plt.legend()"
      ],
      "metadata": {
        "id": "1iX-tpjZzbMb"
      },
      "execution_count": null,
      "outputs": []
    },
    {
      "cell_type": "code",
      "source": [
        "#create subplots(bar) showing the profits of two companies\n",
        "#given revenue of company a and b in lakhs\n",
        "import numpy as np\n",
        "a=np.array([230,560,780,127,128])\n",
        "b=np.array([200,160,270,127,400])\n",
        "a1=np.diff(a)\n",
        "b1=np.diff(b)\n",
        "print(\"revenues of company a are\",a)\n",
        "print(\"revenues of company b are\",b)\n",
        "print(\"profits of company a are\",a1)\n",
        "print(\"profits of company a are\",b1)\n",
        "years=[\"2019-2020\",\"2020-2021\",\"2021-2022\",\"2022-2023\"]\n",
        "plt.subplot(1,2,1)\n",
        "plt.bar(years,a1,label=\"a1\",color='k')\n",
        "plt.legend(loc=\"best\")\n",
        "plt.subplot(1,2,2)\n",
        "plt.bar(years,b1,label=\"b1\",color='g')\n",
        "plt.legend(loc=\"best\")\n"
      ],
      "metadata": {
        "id": "uuvlCfLo2Lh5"
      },
      "execution_count": null,
      "outputs": []
    },
    {
      "cell_type": "code",
      "source": [
        "a=np.array([25,60,99,45])\n",
        "labe=[\"aiml\",\"python\",\"pandas\",\"numpy\"]\n",
        "plt.pie(a,labels= labe)\n",
        "plt.show()"
      ],
      "metadata": {
        "id": "n6uLGppqx1Ew"
      },
      "execution_count": null,
      "outputs": []
    },
    {
      "cell_type": "code",
      "source": [
        "a = np.array([25,60,5,10])\n",
        "labe = [\"aiml\",\"python\",\"pandas\",\"numpy\"]\n",
        "explo = [0.99,0,0,0]\n",
        "plt.pie(a,labels = labe,explode = explo,startangle =45)\n",
        "plt.show()"
      ],
      "metadata": {
        "id": "wg2TNe98FyW8"
      },
      "execution_count": null,
      "outputs": []
    }
  ]
}