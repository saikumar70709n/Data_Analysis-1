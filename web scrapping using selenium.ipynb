{
 "cells": [
  {
   "cell_type": "markdown",
   "id": "ea37b89e",
   "metadata": {},
   "source": [
    "\n",
    "\n",
    "\n",
    "* extracting dell laptops data from amazon.in website and saving it as.csv\n",
    "name of the laptop,price,no of reviews \n"
   ]
  },
  {
   "cell_type": "code",
   "execution_count": 1,
   "id": "75de7151",
   "metadata": {},
   "outputs": [
    {
     "name": "stdout",
     "output_type": "stream",
     "text": [
      "Collecting selenium"
     ]
    },
    {
     "name": "stderr",
     "output_type": "stream",
     "text": [
      "WARNING: Retrying (Retry(total=4, connect=None, read=None, redirect=None, status=None)) after connection broken by 'ReadTimeoutError(\"HTTPSConnectionPool(host='pypi.org', port=443): Read timed out. (read timeout=15)\")': /simple/trio-websocket/\n",
      "WARNING: Retrying (Retry(total=3, connect=None, read=None, redirect=None, status=None)) after connection broken by 'ReadTimeoutError(\"HTTPSConnectionPool(host='pypi.org', port=443): Read timed out. (read timeout=15)\")': /simple/trio-websocket/\n",
      "WARNING: Retrying (Retry(total=2, connect=None, read=None, redirect=None, status=None)) after connection broken by 'ReadTimeoutError(\"HTTPSConnectionPool(host='pypi.org', port=443): Read timed out. (read timeout=15)\")': /simple/trio-websocket/\n",
      "WARNING: Retrying (Retry(total=4, connect=None, read=None, redirect=None, status=None)) after connection broken by 'ReadTimeoutError(\"HTTPSConnectionPool(host='pypi.org', port=443): Read timed out. (read timeout=15)\")': /simple/typing-extensions/\n",
      "WARNING: Retrying (Retry(total=4, connect=None, read=None, redirect=None, status=None)) after connection broken by 'ReadTimeoutError(\"HTTPSConnectionPool(host='pypi.org', port=443): Read timed out. (read timeout=15)\")': /simple/sniffio/\n"
     ]
    },
    {
     "name": "stdout",
     "output_type": "stream",
     "text": [
      "\n",
      "  Obtaining dependency information for selenium from https://files.pythonhosted.org/packages/97/e3/fd7272d6d2c49fd49a79a603cb28c8b5a71f8911861b4a0409b3c006a241/selenium-4.17.2-py3-none-any.whl.metadata\n",
      "  Downloading selenium-4.17.2-py3-none-any.whl.metadata (6.9 kB)\n",
      "Requirement already satisfied: urllib3[socks]<3,>=1.26 in c:\\users\\cool\\anaconda3\\lib\\site-packages (from selenium) (1.26.16)\n",
      "Collecting trio~=0.17 (from selenium)\n",
      "  Obtaining dependency information for trio~=0.17 from https://files.pythonhosted.org/packages/14/fb/9299cf74953f473a15accfdbe2c15218e766bae8c796f2567c83bae03e98/trio-0.24.0-py3-none-any.whl.metadata\n",
      "  Downloading trio-0.24.0-py3-none-any.whl.metadata (4.9 kB)\n",
      "Collecting trio-websocket~=0.9 (from selenium)\n",
      "  Obtaining dependency information for trio-websocket~=0.9 from https://files.pythonhosted.org/packages/48/be/a9ae5f50cad5b6f85bd2574c2c923730098530096e170c1ce7452394d7aa/trio_websocket-0.11.1-py3-none-any.whl.metadata\n",
      "  Downloading trio_websocket-0.11.1-py3-none-any.whl.metadata (4.7 kB)\n",
      "Requirement already satisfied: certifi>=2021.10.8 in c:\\users\\cool\\anaconda3\\lib\\site-packages (from selenium) (2023.7.22)\n",
      "Collecting typing_extensions>=4.9.0 (from selenium)\n",
      "  Obtaining dependency information for typing_extensions>=4.9.0 from https://files.pythonhosted.org/packages/b7/f4/6a90020cd2d93349b442bfcb657d0dc91eee65491600b2cb1d388bc98e6b/typing_extensions-4.9.0-py3-none-any.whl.metadata\n",
      "  Downloading typing_extensions-4.9.0-py3-none-any.whl.metadata (3.0 kB)\n",
      "Requirement already satisfied: attrs>=20.1.0 in c:\\users\\cool\\anaconda3\\lib\\site-packages (from trio~=0.17->selenium) (22.1.0)\n",
      "Requirement already satisfied: sortedcontainers in c:\\users\\cool\\anaconda3\\lib\\site-packages (from trio~=0.17->selenium) (2.4.0)\n",
      "Requirement already satisfied: idna in c:\\users\\cool\\anaconda3\\lib\\site-packages (from trio~=0.17->selenium) (3.4)\n",
      "Collecting outcome (from trio~=0.17->selenium)\n",
      "  Obtaining dependency information for outcome from https://files.pythonhosted.org/packages/55/8b/5ab7257531a5d830fc8000c476e63c935488d74609b50f9384a643ec0a62/outcome-1.3.0.post0-py2.py3-none-any.whl.metadata\n",
      "  Downloading outcome-1.3.0.post0-py2.py3-none-any.whl.metadata (2.6 kB)\n",
      "Collecting sniffio>=1.3.0 (from trio~=0.17->selenium)\n",
      "  Downloading sniffio-1.3.0-py3-none-any.whl (10 kB)\n",
      "Requirement already satisfied: cffi>=1.14 in c:\\users\\cool\\anaconda3\\lib\\site-packages (from trio~=0.17->selenium) (1.15.1)\n",
      "Collecting wsproto>=0.14 (from trio-websocket~=0.9->selenium)\n",
      "  Downloading wsproto-1.2.0-py3-none-any.whl (24 kB)\n",
      "Requirement already satisfied: PySocks!=1.5.7,<2.0,>=1.5.6 in c:\\users\\cool\\anaconda3\\lib\\site-packages (from urllib3[socks]<3,>=1.26->selenium) (1.7.1)\n",
      "Requirement already satisfied: pycparser in c:\\users\\cool\\anaconda3\\lib\\site-packages (from cffi>=1.14->trio~=0.17->selenium) (2.21)\n",
      "Collecting h11<1,>=0.9.0 (from wsproto>=0.14->trio-websocket~=0.9->selenium)\n",
      "  Downloading h11-0.14.0-py3-none-any.whl (58 kB)\n",
      "     ---------------------------------------- 0.0/58.3 kB ? eta -:--:--\n",
      "     ---------------------------- ----------- 41.0/58.3 kB 1.9 MB/s eta 0:00:01\n",
      "     ---------------------------- ----------- 41.0/58.3 kB 1.9 MB/s eta 0:00:01\n",
      "     -------------------------------------- 58.3/58.3 kB 510.8 kB/s eta 0:00:00\n",
      "Downloading selenium-4.17.2-py3-none-any.whl (9.9 MB)\n",
      "   ---------------------------------------- 0.0/9.9 MB ? eta -:--:--\n",
      "   ---------------------------------------- 0.0/9.9 MB 991.0 kB/s eta 0:00:10\n",
      "   ---------------------------------------- 0.1/9.9 MB 825.8 kB/s eta 0:00:12\n",
      "   ---------------------------------------- 0.1/9.9 MB 751.6 kB/s eta 0:00:14\n",
      "    --------------------------------------- 0.1/9.9 MB 787.7 kB/s eta 0:00:13\n",
      "    --------------------------------------- 0.2/9.9 MB 706.2 kB/s eta 0:00:14\n",
      "    --------------------------------------- 0.2/9.9 MB 831.5 kB/s eta 0:00:12\n",
      "    --------------------------------------- 0.2/9.9 MB 811.5 kB/s eta 0:00:12\n",
      "   - -------------------------------------- 0.3/9.9 MB 811.7 kB/s eta 0:00:12\n",
      "   - -------------------------------------- 0.3/9.9 MB 827.2 kB/s eta 0:00:12\n",
      "   - -------------------------------------- 0.4/9.9 MB 825.0 kB/s eta 0:00:12\n",
      "   - -------------------------------------- 0.4/9.9 MB 836.4 kB/s eta 0:00:12\n",
      "   - -------------------------------------- 0.4/9.9 MB 819.2 kB/s eta 0:00:12\n",
      "   - -------------------------------------- 0.5/9.9 MB 842.4 kB/s eta 0:00:12\n",
      "   -- ------------------------------------- 0.5/9.9 MB 850.4 kB/s eta 0:00:12\n",
      "   -- ------------------------------------- 0.6/9.9 MB 868.4 kB/s eta 0:00:11\n",
      "   -- ------------------------------------- 0.6/9.9 MB 874.1 kB/s eta 0:00:11\n",
      "   -- ------------------------------------- 0.6/9.9 MB 888.5 kB/s eta 0:00:11\n",
      "   -- ------------------------------------- 0.7/9.9 MB 901.1 kB/s eta 0:00:11\n",
      "   -- ------------------------------------- 0.7/9.9 MB 899.4 kB/s eta 0:00:11\n",
      "   --- ------------------------------------ 0.8/9.9 MB 939.9 kB/s eta 0:00:10\n",
      "   --- ------------------------------------ 0.8/9.9 MB 947.9 kB/s eta 0:00:10\n",
      "   --- ------------------------------------ 0.9/9.9 MB 972.0 kB/s eta 0:00:10\n",
      "   --- ------------------------------------ 0.9/9.9 MB 994.5 kB/s eta 0:00:10\n",
      "   ---- ----------------------------------- 1.0/9.9 MB 999.0 kB/s eta 0:00:09\n",
      "   ---- ----------------------------------- 1.1/9.9 MB 1.0 MB/s eta 0:00:09\n",
      "   ---- ----------------------------------- 1.1/9.9 MB 1.0 MB/s eta 0:00:09\n",
      "   ---- ----------------------------------- 1.2/9.9 MB 1.1 MB/s eta 0:00:09\n",
      "   ----- ---------------------------------- 1.2/9.9 MB 1.1 MB/s eta 0:00:09\n",
      "   ----- ---------------------------------- 1.3/9.9 MB 1.1 MB/s eta 0:00:08\n",
      "   ----- ---------------------------------- 1.4/9.9 MB 1.1 MB/s eta 0:00:08\n",
      "   ----- ---------------------------------- 1.4/9.9 MB 1.1 MB/s eta 0:00:08\n",
      "   ------ --------------------------------- 1.5/9.9 MB 1.1 MB/s eta 0:00:08\n",
      "   ------ --------------------------------- 1.6/9.9 MB 1.1 MB/s eta 0:00:08\n",
      "   ------ --------------------------------- 1.6/9.9 MB 1.2 MB/s eta 0:00:08\n",
      "   ------ --------------------------------- 1.7/9.9 MB 1.2 MB/s eta 0:00:07\n",
      "   ------- -------------------------------- 1.8/9.9 MB 1.2 MB/s eta 0:00:07\n",
      "   ------- -------------------------------- 1.8/9.9 MB 1.2 MB/s eta 0:00:07\n",
      "   ------- -------------------------------- 1.9/9.9 MB 1.2 MB/s eta 0:00:07\n",
      "   -------- ------------------------------- 2.0/9.9 MB 1.2 MB/s eta 0:00:07\n",
      "   -------- ------------------------------- 2.1/9.9 MB 1.2 MB/s eta 0:00:07\n",
      "   -------- ------------------------------- 2.2/9.9 MB 1.3 MB/s eta 0:00:07\n",
      "   -------- ------------------------------- 2.2/9.9 MB 1.3 MB/s eta 0:00:07\n",
      "   --------- ------------------------------ 2.3/9.9 MB 1.3 MB/s eta 0:00:06\n",
      "   --------- ------------------------------ 2.4/9.9 MB 1.3 MB/s eta 0:00:06\n",
      "   --------- ------------------------------ 2.5/9.9 MB 1.3 MB/s eta 0:00:06\n",
      "   ---------- ----------------------------- 2.6/9.9 MB 1.3 MB/s eta 0:00:06\n",
      "   ---------- ----------------------------- 2.7/9.9 MB 1.4 MB/s eta 0:00:06\n",
      "   ----------- ---------------------------- 2.8/9.9 MB 1.4 MB/s eta 0:00:06\n",
      "   ----------- ---------------------------- 2.8/9.9 MB 1.4 MB/s eta 0:00:06\n",
      "   ----------- ---------------------------- 2.9/9.9 MB 1.4 MB/s eta 0:00:05\n",
      "   ------------ --------------------------- 3.0/9.9 MB 1.4 MB/s eta 0:00:05\n",
      "   ------------ --------------------------- 3.1/9.9 MB 1.4 MB/s eta 0:00:05\n",
      "   ------------- -------------------------- 3.2/9.9 MB 1.4 MB/s eta 0:00:05\n",
      "   ------------- -------------------------- 3.3/9.9 MB 1.5 MB/s eta 0:00:05\n",
      "   ------------- -------------------------- 3.4/9.9 MB 1.5 MB/s eta 0:00:05\n",
      "   -------------- ------------------------- 3.6/9.9 MB 1.5 MB/s eta 0:00:05\n",
      "   -------------- ------------------------- 3.7/9.9 MB 1.5 MB/s eta 0:00:05\n",
      "   --------------- ------------------------ 3.8/9.9 MB 1.5 MB/s eta 0:00:04\n",
      "   --------------- ------------------------ 3.9/9.9 MB 1.6 MB/s eta 0:00:04\n",
      "   ---------------- ----------------------- 4.0/9.9 MB 1.6 MB/s eta 0:00:04\n",
      "   ---------------- ----------------------- 4.2/9.9 MB 1.6 MB/s eta 0:00:04\n",
      "   ----------------- ---------------------- 4.3/9.9 MB 1.6 MB/s eta 0:00:04\n",
      "   ----------------- ---------------------- 4.4/9.9 MB 1.7 MB/s eta 0:00:04\n",
      "   ------------------ --------------------- 4.5/9.9 MB 1.7 MB/s eta 0:00:04\n",
      "   ------------------ --------------------- 4.7/9.9 MB 1.7 MB/s eta 0:00:04\n",
      "   ------------------- -------------------- 4.8/9.9 MB 1.7 MB/s eta 0:00:03\n",
      "   ------------------- -------------------- 4.9/9.9 MB 1.8 MB/s eta 0:00:03\n",
      "   -------------------- ------------------- 5.1/9.9 MB 1.8 MB/s eta 0:00:03\n",
      "   --------------------- ------------------ 5.2/9.9 MB 1.8 MB/s eta 0:00:03\n",
      "   --------------------- ------------------ 5.4/9.9 MB 1.9 MB/s eta 0:00:03\n",
      "   ---------------------- ----------------- 5.5/9.9 MB 1.9 MB/s eta 0:00:03\n",
      "   ----------------------- ---------------- 5.7/9.9 MB 1.9 MB/s eta 0:00:03\n",
      "   ----------------------- ---------------- 5.8/9.9 MB 1.9 MB/s eta 0:00:03\n",
      "   ------------------------ --------------- 6.0/9.9 MB 2.0 MB/s eta 0:00:02\n",
      "   ------------------------ --------------- 6.2/9.9 MB 2.0 MB/s eta 0:00:02\n",
      "   ------------------------- -------------- 6.3/9.9 MB 2.0 MB/s eta 0:00:02\n",
      "   -------------------------- ------------- 6.5/9.9 MB 2.0 MB/s eta 0:00:02\n",
      "   --------------------------- ------------ 6.7/9.9 MB 2.1 MB/s eta 0:00:02\n",
      "   --------------------------- ------------ 6.9/9.9 MB 2.1 MB/s eta 0:00:02\n",
      "   ---------------------------- ----------- 7.1/9.9 MB 2.1 MB/s eta 0:00:02\n",
      "   ----------------------------- ---------- 7.4/9.9 MB 2.2 MB/s eta 0:00:02\n",
      "   ------------------------------ --------- 7.5/9.9 MB 2.2 MB/s eta 0:00:02\n",
      "   ------------------------------- -------- 7.7/9.9 MB 2.2 MB/s eta 0:00:01\n",
      "   -------------------------------- ------- 8.0/9.9 MB 2.3 MB/s eta 0:00:01\n",
      "   --------------------------------- ------ 8.2/9.9 MB 2.3 MB/s eta 0:00:01\n",
      "   --------------------------------- ------ 8.4/9.9 MB 2.3 MB/s eta 0:00:01\n",
      "   ---------------------------------- ----- 8.6/9.9 MB 2.4 MB/s eta 0:00:01\n",
      "   ----------------------------------- ---- 8.8/9.9 MB 2.4 MB/s eta 0:00:01\n",
      "   ------------------------------------ --- 9.0/9.9 MB 2.4 MB/s eta 0:00:01\n",
      "   ------------------------------------- -- 9.2/9.9 MB 2.4 MB/s eta 0:00:01\n",
      "   -------------------------------------- - 9.4/9.9 MB 2.5 MB/s eta 0:00:01\n",
      "   -------------------------------------- - 9.6/9.9 MB 2.5 MB/s eta 0:00:01\n",
      "   ---------------------------------------  9.8/9.9 MB 2.5 MB/s eta 0:00:01\n",
      "   ---------------------------------------  9.9/9.9 MB 2.5 MB/s eta 0:00:01\n",
      "   ---------------------------------------- 9.9/9.9 MB 2.5 MB/s eta 0:00:00\n",
      "Downloading trio-0.24.0-py3-none-any.whl (460 kB)\n",
      "   ---------------------------------------- 0.0/460.2 kB ? eta -:--:--\n",
      "   -------------------------------- ------- 368.6/460.2 kB 7.6 MB/s eta 0:00:01\n",
      "   ---------------------------------------- 460.2/460.2 kB 5.8 MB/s eta 0:00:00\n",
      "Downloading trio_websocket-0.11.1-py3-none-any.whl (17 kB)\n",
      "Downloading typing_extensions-4.9.0-py3-none-any.whl (32 kB)\n",
      "Downloading outcome-1.3.0.post0-py2.py3-none-any.whl (10 kB)\n",
      "Installing collected packages: typing_extensions, sniffio, outcome, h11, wsproto, trio, trio-websocket, selenium\n",
      "  Attempting uninstall: typing_extensions\n",
      "    Found existing installation: typing_extensions 4.7.1\n",
      "    Uninstalling typing_extensions-4.7.1:\n",
      "      Successfully uninstalled typing_extensions-4.7.1\n",
      "  Attempting uninstall: sniffio\n",
      "    Found existing installation: sniffio 1.2.0\n",
      "    Uninstalling sniffio-1.2.0:\n",
      "      Successfully uninstalled sniffio-1.2.0\n",
      "Successfully installed h11-0.14.0 outcome-1.3.0.post0 selenium-4.17.2 sniffio-1.3.0 trio-0.24.0 trio-websocket-0.11.1 typing_extensions-4.9.0 wsproto-1.2.0\n"
     ]
    }
   ],
   "source": [
    "!pip install selenium"
   ]
  },
  {
   "cell_type": "code",
   "execution_count": 4,
   "id": "d48a22e9",
   "metadata": {},
   "outputs": [
    {
     "name": "stdout",
     "output_type": "stream",
     "text": [
      "Collecting webdriver_manager\n",
      "  Obtaining dependency information for webdriver_manager from https://files.pythonhosted.org/packages/b1/51/b5c11cf739ac4eecde611794a0ec9df420d0239d51e73bc19eb44f02b48b/webdriver_manager-4.0.1-py2.py3-none-any.whl.metadata\n",
      "  Downloading webdriver_manager-4.0.1-py2.py3-none-any.whl.metadata (12 kB)\n",
      "Requirement already satisfied: requests in c:\\users\\cool\\anaconda3\\lib\\site-packages (from webdriver_manager) (2.31.0)\n",
      "Requirement already satisfied: python-dotenv in c:\\users\\cool\\anaconda3\\lib\\site-packages (from webdriver_manager) (0.21.0)\n",
      "Requirement already satisfied: packaging in c:\\users\\cool\\anaconda3\\lib\\site-packages (from webdriver_manager) (23.1)\n",
      "Requirement already satisfied: charset-normalizer<4,>=2 in c:\\users\\cool\\anaconda3\\lib\\site-packages (from requests->webdriver_manager) (2.0.4)\n",
      "Requirement already satisfied: idna<4,>=2.5 in c:\\users\\cool\\anaconda3\\lib\\site-packages (from requests->webdriver_manager) (3.4)\n",
      "Requirement already satisfied: urllib3<3,>=1.21.1 in c:\\users\\cool\\anaconda3\\lib\\site-packages (from requests->webdriver_manager) (1.26.16)\n",
      "Requirement already satisfied: certifi>=2017.4.17 in c:\\users\\cool\\anaconda3\\lib\\site-packages (from requests->webdriver_manager) (2023.7.22)\n",
      "Downloading webdriver_manager-4.0.1-py2.py3-none-any.whl (27 kB)\n",
      "Installing collected packages: webdriver_manager\n",
      "Successfully installed webdriver_manager-4.0.1\n"
     ]
    },
    {
     "name": "stderr",
     "output_type": "stream",
     "text": [
      "WARNING: Retrying (Retry(total=4, connect=None, read=None, redirect=None, status=None)) after connection broken by 'ReadTimeoutError(\"HTTPSConnectionPool(host='pypi.org', port=443): Read timed out. (read timeout=15)\")': /simple/webdriver-manager/\n",
      "WARNING: Retrying (Retry(total=3, connect=None, read=None, redirect=None, status=None)) after connection broken by 'ReadTimeoutError(\"HTTPSConnectionPool(host='pypi.org', port=443): Read timed out. (read timeout=15)\")': /simple/webdriver-manager/\n",
      "WARNING: Retrying (Retry(total=2, connect=None, read=None, redirect=None, status=None)) after connection broken by 'ProtocolError('Connection aborted.', ConnectionResetError(10054, 'An existing connection was forcibly closed by the remote host', None, 10054, None))': /simple/webdriver-manager/\n"
     ]
    }
   ],
   "source": [
    "!pip install webdriver_manager"
   ]
  },
  {
   "cell_type": "code",
   "execution_count": 73,
   "id": "559ccaf1",
   "metadata": {},
   "outputs": [],
   "source": [
    "import selenium as sn\n",
    "import webdriver_manager as wb"
   ]
  },
  {
   "cell_type": "code",
   "execution_count": 74,
   "id": "a05620b7",
   "metadata": {},
   "outputs": [],
   "source": [
    "import pandas as pd\n",
    "from selenium import webdriver\n",
    "from webdriver_manager.chrome import ChromeDriverManager\n",
    "from selenium.webdriver.chrome.options import Options\n",
    "from selenium.webdriver.common.by import By\n",
    "from selenium.webdriver.common.keys import Keys"
   ]
  },
  {
   "cell_type": "code",
   "execution_count": 75,
   "id": "abd5bf56",
   "metadata": {},
   "outputs": [
    {
     "name": "stdout",
     "output_type": "stream",
     "text": [
      "chrome\n"
     ]
    }
   ],
   "source": [
    "options=webdriver.ChromeOptions()\n",
    "options.add_argument('--some-option')\n",
    "driver=webdriver.Chrome(options=options)\n",
    "browser_name=options.to_capabilities()[\"browserName\"]\n",
    "print(browser_name)"
   ]
  },
  {
   "cell_type": "code",
   "execution_count": 76,
   "id": "6889db84",
   "metadata": {},
   "outputs": [],
   "source": [
    "driver.get(\"https://www.amazon.in/\")"
   ]
  },
  {
   "cell_type": "code",
   "execution_count": 77,
   "id": "adc7cb73",
   "metadata": {},
   "outputs": [],
   "source": [
    "ch=driver.find_element(By.ID,\"twotabsearchtextbox\")\n",
    "ch.send_keys(\"Dell laptops\")"
   ]
  },
  {
   "cell_type": "code",
   "execution_count": 78,
   "id": "e7057954",
   "metadata": {},
   "outputs": [],
   "source": [
    "driver.find_element(By.ID,\"nav-search-submit-button\").click()"
   ]
  },
  {
   "cell_type": "code",
   "execution_count": 79,
   "id": "ae3c174c",
   "metadata": {},
   "outputs": [],
   "source": [
    "driver.find_element(By.XPATH,\"//span[text()='Dell']\").click()"
   ]
  },
  {
   "cell_type": "markdown",
   "id": "4a08d065",
   "metadata": {},
   "source": [
    "#a class name for product title\n",
    "\"a-size-medium"
   ]
  },
  {
   "cell_type": "code",
   "execution_count": 128,
   "id": "ab6f84f0",
   "metadata": {},
   "outputs": [
    {
     "name": "stdout",
     "output_type": "stream",
     "text": [
      "['Dell 14 Laptop, AMD Ryzen R5-5500U/ 8GB DDR4, 2400 MHz/ 512GB/ 14.0\" (35.56cm) FHD Display with Comfort View/Windows 11 + MSO\\'21/15 Month McAfee/Spill-Resistant Keyboard/Carbon Black/ 1.48kg', 'Dell Inspiron 3520 Laptop, Intel Core i5-1235U Processor, 16GB,512GB,15.6\" (39.62cm) FHD Display, Backlit Keyboard, Win 11 + MSO\\'21,15 Month McAfee, Silver, Thin & Light-1.65kg', 'Dell Inspiron 3535 Laptop, AMD 7 Series Ryzen 5-7520U Processor/8GB/512GB/15.6\" (39.62cm) FHD WVA AG 120Hz 250 nits Display/Win 11 + MSO\\'21/15 Month McAfee/Platinum Silver/1.63kg', 'Dell 14 Laptop, 12th Gen Intel Core i5-1235U Processor, 16GB, 512GB, 14.0\" (35.56cm) FHD Display, Windows 11 + MSO\\'21, Spill-Resistant Keyboard, 15 Month Mcafee, Black, Thin & Light- 1.48kg', 'Dell 14 Laptop, 12th Gen Intel Core i3-1215U Processor/8GB/512GB SSD/Intel UHD Graphics/14.0\"(35.56cm) FHD/Windows 11 + MSO\\'21/15 Month McAfee/Spill-Resistant Keyboard/Grey/Thin & Light 1.48kg', 'Dell Inspiron 7430 2in1 Touch Laptop, 13th Gen Intel Core i3-1315U/8GB/1TB SSD/14.0\" (35.56cm) FHD+,16:10 Aspect Ratio/Backlit KB+FPR/Win 11+MSO\\'21/15 Months McAfee/Platinum Silver/Thin & Light-1.58kg', 'Dell 15 Laptop, Intel Core i5-1135G7 Processor/ 8GB/ 1TB+256GB SSD/15.6\"(39.62cm) FHD Display/Mobile Connect/Windows 11 + MSO\\'21/15 Month McAfee/Spill-Resistant Keyboard/Black/Thin & Light 1.69kg', 'Dell Inspiron 3530 Laptop, 13th Gen Intel Core i5-1335U Processor/16GB/1TB SSD/15.6\" (39.62cm) FHD Display/Backlit Keyboard/Platinum Silver/Win 11 + MSO\\'21/15 Month McAfee/Thin & Light- 1.66kg', 'Dell G15 5520 Gaming Laptop, Intel i5-12500H/16GB DDR5/1TB SSD/15.6\" (39.62cm) FHD WVA AG 120Hz 250 nits/NVIDIA RTX 3050, 4 GB GDDR6/Win 11 + MSO\\'21/15 Months McAfee/Backlit KB/Dark Shadow Grey/2.81kg', 'Dell 15 Laptop, Intel Core i3-1115G4 Processor/8GB DDR4/512GB SSD/Intel UHD Graphics/15.6\" (39.6cm) FHD 120Hz Refresh, 250 nits/Mobile Connect/Win 11+MSO\\'21/15 Month McAfee/Black/Thin & Light-1.66kg', 'Dell 14 Laptop, Intel Core i5-1135G7 Processor/8GB/512GB/Intel UHD Graphic/14.0\" (35.6cm) FHD with Comfort View/Spill-Resistant Keyboard/Thin & Light 1.48kg/ Win 11+ MSO\\'21/15 Month McAfee/Titan Grey', 'Dell Inspiron 5430 Laptop, 13th Gen Intel Core i5-1335U Processor/16GB/1TB SSD/14.0\" (35.56CM) FHD+ WVA 250 nits/Backlit KB + FPR/Win 11+MSO\\'21/15 Month McAfee/Platinum Silver/Thin & Light- 1.59KG', 'Dell 14, Intel 12th Gen i5-1235U Laptop/8GB/512GB SSD/14.0\" (35.56cm) FHD TÃœV Rheinland Certified Comfortview to Reduce Harmful Blue Light Emission/Windows 11 + MSO\\'21/Black/15 Month McAfee,1.48kg', 'Dell New 14\" Latitude 3420- i3 11th Gen || 8 GB || 512 GB SSD || 14\" Full HD 1920 x 1080 Pixels || Ubuntu-Dos || 1 Year Onsite with ADP Warranty', 'Dell Inspiron 3530 Laptop, Intel Core i7-1355U Processor, 16GB, 512GB, 15.6\" (39.62cm) FHD WVA AG 120Hz, Backlit KB + FPR, Win 11 + MSO\\'21, 15 Month McAfee, Silver, 1.62kg', 'Dell Inspiron 5330 Laptop, Intel Evo Platform Powered by Intel Core i7-1360P Processor/16GB LP DDR5/1TB SSD/13.3\" (33.78cm) QHD+ 300 nits/Win 11 + MSO\\'21/15 Month McAfee/Platinum Silver/1.24kg', 'Dell New G15-5515 Gaming Laptop, AMD Ryzen5-5600H, Win 11 + MSO\\'21, 16Gb Gddr4, 512Gb SSD, Nvidia RTX 3050 (4Gb Gddr6), 15.6\" (39.62Cms) FHD AG 250 Nits 120Hz, Backlit KB Orange, 2.57Kgs', 'Dell 14 Laptop, 13th Gen Intel Core i5-1335U Processor/ 8GB/ 512GB SSD/ 14.0\" (35.56cm) FHD/Windows 11 + MSO\\'21/15 Month McAfee/Spill-Resistant Keyboard/Carbon Black/Thin & Light- 1.46kg', 'Dell 14 Premium Metal Laptop, AMD Ryzen 5-5625U, 16GB, 512GB, 14.0\" (35.56CM) FHD Display, Backlit KB + FPR, Win 11 + MSO\\'21, 15 Month McAfee, Dark Silver, Thin & Light-1.48kg', 'Dell Inspiron 3520 Laptop, Intel Core i3-1215U Processor, 8GB & 256GB SSD, 15.6\" (39.62Cm) FHD WVA AG 120Hz 250 nits, Win 11 + MSO\\'21, Carbon Black, 15 Months McAfee, Thin & Light- 1.65KG', 'Dell G15-5530 Gaming Laptop, Intel Core i5-13450HX Processor, 16GB DDR5, 1TB, NVIDIA RTX 3050,6GB GDDR6, 15.6\" (39.62cm) FHD 120Hz 250 nits, Backlit KB Orange,Win 11 + MSO\\'21, Dark Shadow Gray, 2.65kg', 'Dell Inspiron 7430 2in1 Touch Laptop, Intel Core i5-1335U Processor/ 16GB LP DDR5/ 1TB SSD/14.0\" (35.56cm) FHD+/ Active Pen/Win 11 + MSO\\'21/15 Month McAfee/Platinum Silver/Thin & Light- 1.58kg', 'Dell Inspiron 3520 Laptop, Intel Core i3-1215U Processor, 8GB, 512GB, 15.6\" (39.62cm) FHD Display, Win 11 + MSO\\'21, 15 Month McAfee Antivirus, Silver, Thin & Light-1.65kg', 'Dell G15-5525 Gaming Laptop, AMD Ryzen 7-6800H, 16GB DDR5, 1TB SSD, NVIDIA RTX 3070 Ti (8GB GDDR6), 15.6\" (39.62Cm) FHD WVA AG, 165 Hz 300 nits, Win 11+ MSO\\'21, Phantom Grey, 15 Month McAfee, 2.51Kg']\n"
     ]
    }
   ],
   "source": [
    "#class for product title\n",
    "names=driver.find_elements(By.XPATH,\".//span[@class='a-size-medium a-color-base a-text-normal']\")\n",
    "l_names=[i.text for i in names]\n",
    "print(l_names)"
   ]
  },
  {
   "cell_type": "code",
   "execution_count": 129,
   "id": "ed382daf",
   "metadata": {},
   "outputs": [
    {
     "name": "stdout",
     "output_type": "stream",
     "text": [
      "24\n"
     ]
    }
   ],
   "source": [
    "print(len(l_names))"
   ]
  },
  {
   "cell_type": "code",
   "execution_count": 130,
   "id": "72919ba2",
   "metadata": {},
   "outputs": [
    {
     "name": "stdout",
     "output_type": "stream",
     "text": [
      "['33,990', '35,990', '38,990', '49,990', '35,990', '57,990', '44,990', '67,490', '75,990', '33,990', '44,990', '71,290', '46,990', '30,630', '71,490', '98,990', '78,490', '56,990', '50,490', '34,380', '81,490', '82,990', '38,090', '1,08,599']\n"
     ]
    }
   ],
   "source": [
    "#class for product title\n",
    "price=driver.find_elements(By.XPATH,\".//span[@class='a-price-whole']\")\n",
    "l_prices=[i.text for i in price]\n",
    "(l_prices.pop(0))\n",
    "(l_prices.pop(1))\n",
    "(l_prices.pop(2))\n",
    "print(l_prices)"
   ]
  },
  {
   "cell_type": "code",
   "execution_count": 131,
   "id": "081a5a4a",
   "metadata": {},
   "outputs": [
    {
     "name": "stdout",
     "output_type": "stream",
     "text": [
      "24\n"
     ]
    }
   ],
   "source": [
    "print(len(l_prices))"
   ]
  },
  {
   "cell_type": "code",
   "execution_count": null,
   "id": "e1ab3efd",
   "metadata": {},
   "outputs": [],
   "source": []
  },
  {
   "cell_type": "code",
   "execution_count": 132,
   "id": "299e82f6",
   "metadata": {},
   "outputs": [
    {
     "name": "stdout",
     "output_type": "stream",
     "text": [
      "['4', '2', '4', '72', '239', '179', '607', '13', '517', '631', '2', '82', '138', '1', '1', '6', '71', '34', '1', '195', '11', '27', '3', '5']\n"
     ]
    }
   ],
   "source": [
    "reviews=driver.find_elements(By.XPATH,\".//span[@class='a-size-base s-underline-text']\")\n",
    "l_reviews=[i.text for i in reviews]\n",
    "print(l_reviews)"
   ]
  },
  {
   "cell_type": "code",
   "execution_count": 133,
   "id": "88a9f8a5",
   "metadata": {},
   "outputs": [
    {
     "name": "stdout",
     "output_type": "stream",
     "text": [
      "24\n"
     ]
    }
   ],
   "source": [
    "print(len(l_reviews))"
   ]
  },
  {
   "cell_type": "code",
   "execution_count": 121,
   "id": "8c830df6",
   "metadata": {},
   "outputs": [
    {
     "name": "stdout",
     "output_type": "stream",
     "text": [
      "21\n"
     ]
    }
   ],
   "source": []
  },
  {
   "cell_type": "code",
   "execution_count": 134,
   "id": "98ba3c99",
   "metadata": {},
   "outputs": [
    {
     "name": "stdout",
     "output_type": "stream",
     "text": [
      "Empty DataFrame\n",
      "Columns: [laptops, price, reviews]\n",
      "Index: []\n"
     ]
    }
   ],
   "source": [
    "headings=['laptops','price','reviews']\n",
    "df=pd.DataFrame(columns=headings)\n",
    "print(df)"
   ]
  },
  {
   "cell_type": "code",
   "execution_count": 135,
   "id": "02a3fcd0",
   "metadata": {},
   "outputs": [],
   "source": [
    "df['laptops']=l_names\n",
    "df['price']=l_prices\n",
    "df['reviews']=l_reviews\n"
   ]
  },
  {
   "cell_type": "code",
   "execution_count": 136,
   "id": "65e16085",
   "metadata": {},
   "outputs": [
    {
     "name": "stdout",
     "output_type": "stream",
     "text": [
      "                                              laptops     price reviews\n",
      "0   Dell 14 Laptop, AMD Ryzen R5-5500U/ 8GB DDR4, ...    33,990       4\n",
      "1   Dell Inspiron 3520 Laptop, Intel Core i5-1235U...    35,990       2\n",
      "2   Dell Inspiron 3535 Laptop, AMD 7 Series Ryzen ...    38,990       4\n",
      "3   Dell 14 Laptop, 12th Gen Intel Core i5-1235U P...    49,990      72\n",
      "4   Dell 14 Laptop, 12th Gen Intel Core i3-1215U P...    35,990     239\n",
      "5   Dell Inspiron 7430 2in1 Touch Laptop, 13th Gen...    57,990     179\n",
      "6   Dell 15 Laptop, Intel Core i5-1135G7 Processor...    44,990     607\n",
      "7   Dell Inspiron 3530 Laptop, 13th Gen Intel Core...    67,490      13\n",
      "8   Dell G15 5520 Gaming Laptop, Intel i5-12500H/1...    75,990     517\n",
      "9   Dell 15 Laptop, Intel Core i3-1115G4 Processor...    33,990     631\n",
      "10  Dell 14 Laptop, Intel Core i5-1135G7 Processor...    44,990       2\n",
      "11  Dell Inspiron 5430 Laptop, 13th Gen Intel Core...    71,290      82\n",
      "12  Dell 14, Intel 12th Gen i5-1235U Laptop/8GB/51...    46,990     138\n",
      "13  Dell New 14\" Latitude 3420- i3 11th Gen || 8 G...    30,630       1\n",
      "14  Dell Inspiron 3530 Laptop, Intel Core i7-1355U...    71,490       1\n",
      "15  Dell Inspiron 5330 Laptop, Intel Evo Platform ...    98,990       6\n",
      "16  Dell New G15-5515 Gaming Laptop, AMD Ryzen5-56...    78,490      71\n",
      "17  Dell 14 Laptop, 13th Gen Intel Core i5-1335U P...    56,990      34\n",
      "18  Dell 14 Premium Metal Laptop, AMD Ryzen 5-5625...    50,490       1\n",
      "19  Dell Inspiron 3520 Laptop, Intel Core i3-1215U...    34,380     195\n",
      "20  Dell G15-5530 Gaming Laptop, Intel Core i5-134...    81,490      11\n",
      "21  Dell Inspiron 7430 2in1 Touch Laptop, Intel Co...    82,990      27\n",
      "22  Dell Inspiron 3520 Laptop, Intel Core i3-1215U...    38,090       3\n",
      "23  Dell G15-5525 Gaming Laptop, AMD Ryzen 7-6800H...  1,08,599       5\n"
     ]
    }
   ],
   "source": [
    "print(df)"
   ]
  },
  {
   "cell_type": "code",
   "execution_count": 137,
   "id": "be4f7dda",
   "metadata": {},
   "outputs": [],
   "source": [
    "df.to_csv(\"Dell_data.csv\")"
   ]
  },
  {
   "cell_type": "markdown",
   "id": "e1a34e32",
   "metadata": {},
   "source": [
    "what is API?\n",
    "#case study:flight booking!\n",
    "#it is a set of protocols\n",
    "#it is a server to retrieves the data purpose\n",
    "#one webiste :accessing data from one database the connection is straight forward\n",
    "#public:it is only used to public users\n",
    "#private api:used for only subscribers\n",
    "#getting databases from the skylet,flysky,etc\n",
    "#API:\n",
    "#eg:ola\n",
    "app1:log in\n",
    "app2:location\n",
    "app3=payment\n",
    "and so on...\n",
    "#alL these small apps are connected together into a large app called ola.\n",
    "#These small apps are called APIs and they are building blocks of so many Bigger apps,hence reusable.\n",
    "#so if 1000+apps use these APIs,what happens!\n",
    "#API crashes.....\n",
    "#hence API keys are created!"
   ]
  }
 ],
 "metadata": {
  "kernelspec": {
   "display_name": "Python 3 (ipykernel)",
   "language": "python",
   "name": "python3"
  },
  "language_info": {
   "codemirror_mode": {
    "name": "ipython",
    "version": 3
   },
   "file_extension": ".py",
   "mimetype": "text/x-python",
   "name": "python",
   "nbconvert_exporter": "python",
   "pygments_lexer": "ipython3",
   "version": "3.11.5"
  }
 },
 "nbformat": 4,
 "nbformat_minor": 5
}
